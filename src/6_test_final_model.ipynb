{
 "cells": [
  {
   "cell_type": "code",
   "execution_count": 1,
   "metadata": {},
   "outputs": [
    {
     "name": "stdout",
     "output_type": "stream",
     "text": [
      "Data successfully loaded: X_test.shape=TensorShape([2370, 10]), y_test.shape=TensorShape([2370])\n",
      "Reloading Tuner from tuning_results\\smote_balance_approach\\tuner0.json\n"
     ]
    }
   ],
   "source": [
    "### Load test dataset from npz and models from keras tuner results ###\n",
    "\n",
    "import keras_tuner as kt\n",
    "import matplotlib.pyplot as plt\n",
    "import numpy as np\n",
    "from sklearn.metrics import confusion_matrix, ConfusionMatrixDisplay\n",
    "import tensorflow as tf\n",
    "\n",
    "# Load train data\n",
    "npz_data = np.load('data/audiobooks_data_split_smote.npz')\n",
    "X_test = tf.convert_to_tensor(npz_data['X_test'], dtype=tf.float64)\n",
    "y_test = tf.convert_to_tensor(npz_data['y_test'], dtype=tf.int8)\n",
    "print(f'Data successfully loaded: {X_test.shape=}, {y_test.shape=}')\n",
    "\n",
    "# Re-build model to access keras tuner project results\n",
    "def build_model(hp):\n",
    "    \"\"\"Model building function.\"\"\"\n",
    "\n",
    "    # Define hyperparameters to tune\n",
    "    num_hidden_layers = hp.Int('num_layers', min_value=2, max_value=5, default=3)\n",
    "    hidden_layer_size = hp.Int('hidden_layer_size', min_value=16, max_value=128, step=16, default=64)\n",
    "    activation = hp.Choice('activation', values=['relu', 'tanh', 'selu'], default='relu')\n",
    "    dropout_rate = hp.Float('dropout_rate', min_value=0.0, max_value=0.5, default=0.2, step=0.05)\n",
    "    l2_strength = hp.Float('l2_strength', min_value=1e-5, max_value=1e-2, default=0.001, step=1e-5)\n",
    "    learning_rate = hp.Float('learning_rate', min_value=1e-4, max_value=1e-2, default=1e-3, step=1e-4)\n",
    "\n",
    "    # Build the model\n",
    "    model = tf.keras.Sequential()\n",
    "    model.add(tf.keras.layers.InputLayer(shape=(10,)))\n",
    "    for _ in range(num_hidden_layers):\n",
    "        model.add(\n",
    "            tf.keras.layers.Dense(\n",
    "                hidden_layer_size,\n",
    "                activation=activation,\n",
    "                kernel_regularizer=tf.keras.regularizers.l2(l2_strength)\n",
    "            )\n",
    "        )\n",
    "        # Dropout layer after each Dense layer\n",
    "        model.add(tf.keras.layers.Dropout(rate=dropout_rate))\n",
    "    model.add(tf.keras.layers.Dense(2,activation='softmax',))\n",
    "\n",
    "    # Compile the model\n",
    "    model.compile(\n",
    "        optimizer=tf.keras.optimizers.Adam(learning_rate=learning_rate),\n",
    "        loss='sparse_categorical_crossentropy',\n",
    "        metrics=['accuracy']\n",
    "    )\n",
    "\n",
    "    return model\n",
    "\n",
    "tuner_smote = kt.Hyperband(\n",
    "    build_model,\n",
    "    objective='val_loss',\n",
    "    max_epochs=150,\n",
    "    factor=3,\n",
    "    directory='tuning_results',\n",
    "    project_name='smote_balance_approach',\n",
    "    overwrite=False # IMPORTANT: Add this parameter!\n",
    ")\n",
    "\n",
    "# Reload existing results\n",
    "tuner_smote.reload()"
   ]
  },
  {
   "cell_type": "code",
   "execution_count": 2,
   "metadata": {},
   "outputs": [
    {
     "name": "stdout",
     "output_type": "stream",
     "text": [
      "WARNING:tensorflow:From c:\\Users\\alowe\\AppData\\Local\\Programs\\Python\\Python312\\Lib\\site-packages\\keras\\src\\backend\\common\\global_state.py:82: The name tf.reset_default_graph is deprecated. Please use tf.compat.v1.reset_default_graph instead.\n",
      "\n"
     ]
    },
    {
     "name": "stderr",
     "output_type": "stream",
     "text": [
      "c:\\Users\\alowe\\AppData\\Local\\Programs\\Python\\Python312\\Lib\\site-packages\\keras\\src\\saving\\saving_lib.py:719: UserWarning: Skipping variable loading for optimizer 'adam', because it has 2 variables whereas the saved optimizer has 14 variables. \n",
      "  saveable.load_own_variables(weights_store.get(inner_path))\n",
      "c:\\Users\\alowe\\AppData\\Local\\Programs\\Python\\Python312\\Lib\\site-packages\\keras\\src\\saving\\saving_lib.py:719: UserWarning: Skipping variable loading for optimizer 'adam', because it has 2 variables whereas the saved optimizer has 18 variables. \n",
      "  saveable.load_own_variables(weights_store.get(inner_path))\n"
     ]
    }
   ],
   "source": [
    "### Create a final ensembled model ###\n",
    "\n",
    "num_to_ensemble = 2\n",
    "ensembled_models = tuner_smote.get_best_models(num_models=num_to_ensemble)"
   ]
  },
  {
   "cell_type": "code",
   "execution_count": 3,
   "metadata": {},
   "outputs": [
    {
     "name": "stdout",
     "output_type": "stream",
     "text": [
      "\u001b[1m75/75\u001b[0m \u001b[32m━━━━━━━━━━━━━━━━━━━━\u001b[0m\u001b[37m\u001b[0m \u001b[1m0s\u001b[0m 1ms/step\n",
      "\u001b[1m75/75\u001b[0m \u001b[32m━━━━━━━━━━━━━━━━━━━━\u001b[0m\u001b[37m\u001b[0m \u001b[1m0s\u001b[0m 1ms/step  \n",
      "Final Model - Test Accuracy: 82.62%\n",
      "Final Model - Test Loss: 0.3306\n"
     ]
    }
   ],
   "source": [
    "### Finally, evaluate the model on the test dataset ###\n",
    "\n",
    "# Get predicted class probabilities and stack them\n",
    "test_probabilities = [model.predict(X_test)[:, 1] for model in ensembled_models]\n",
    "test_probabilities_stack = np.stack(test_probabilities, axis=0)\n",
    "\n",
    "# Average probabilities across models and convert to 0 or 1\n",
    "avg_test_probabilities = np.mean(test_probabilities_stack, axis=0)\n",
    "final_test_predictions = (avg_test_probabilities > 0.5).astype(int)\n",
    "\n",
    "# Compute the ensemble's accuracy\n",
    "ensemble_test_accuracy = np.mean(final_test_predictions == y_test)\n",
    "print(f\"Final Model - Test Accuracy: {ensemble_test_accuracy * 100:.2f}%\")\n",
    "\n",
    "# Calculate ensemble's val_loss using sparse categorical crossentropy\n",
    "ensemble_test_predictions = np.stack([1 - avg_test_probabilities, avg_test_probabilities], axis=-1)\n",
    "ensemble_test_loss = tf.keras.losses.sparse_categorical_crossentropy(\n",
    "    y_test, ensemble_test_predictions\n",
    ").numpy()\n",
    "avg_test_loss = np.mean(ensemble_test_loss)\n",
    "print(f\"Final Model - Test Loss: {avg_test_loss:.4f}\")"
   ]
  },
  {
   "cell_type": "code",
   "execution_count": 7,
   "metadata": {},
   "outputs": [
    {
     "data": {
      "image/png": "[encoded data removed]",
      "text/plain": [
       "<Figure size 640x480 with 2 Axes>"
      ]
     },
     "metadata": {},
     "output_type": "display_data"
    }
   ],
   "source": [
    "### Confusion Matrix ###\n",
    "\n",
    "# Compute and plot the confusion matrix using\n",
    "cm = confusion_matrix(y_test, final_test_predictions)\n",
    "disp = ConfusionMatrixDisplay(confusion_matrix=cm, display_labels=[0, 1])\n",
    "disp.plot(cmap='Blues')\n",
    "\n",
    "# Show plot\n",
    "plt.title('Final Model - Test Dataset Confusion Matrix')\n",
    "plt.xlabel('Predicted Label')\n",
    "plt.ylabel('True Label')\n",
    "plt.show()\n"
   ]
  }
 ],
 "metadata": {
  "kernelspec": {
   "display_name": "Python 3",
   "language": "python",
   "name": "python3"
  },
  "language_info": {
   "codemirror_mode": {
    "name": "ipython",
    "version": 3
   },
   "file_extension": ".py",
   "mimetype": "text/x-python",
   "name": "python",
   "nbconvert_exporter": "python",
   "pygments_lexer": "ipython3",
   "version": "3.12.2"
  }
 },
 "nbformat": 4,
 "nbformat_minor": 2
}

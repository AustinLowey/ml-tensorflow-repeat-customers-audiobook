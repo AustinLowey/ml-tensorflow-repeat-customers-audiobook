{
 "cells": [
  {
   "cell_type": "code",
   "execution_count": 1,
   "metadata": {},
   "outputs": [],
   "source": [
    "### Extract csv data (remainder of preprocessing done with np and sklearn.preprocessing ###\n",
    "\n",
    "from collections import Counter\n",
    "from imblearn.over_sampling import SMOTE\n",
    "import numpy as np\n",
    "from sklearn import preprocessing\n",
    "from sklearn.model_selection import train_test_split\n",
    "from sklearn.utils import shuffle\n",
    "\n",
    "raw_csv_data = np.loadtxt('data/audiobooks_data_processed.csv', delimiter=',')\n",
    "X_unscaled_unequal_priors = raw_csv_data[:, 1:-1] # Extract all but customer_id and purchased_again columns\n",
    "y_unequal_priors = raw_csv_data[:, -1].astype(np.int8)"
   ]
  },
  {
   "cell_type": "code",
   "execution_count": null,
   "metadata": {},
   "outputs": [
    {
     "name": "stdout",
     "output_type": "stream",
     "text": [
      "Prebalanced data: num_returning = 2237 | num_nonreturning = 11847\n",
      "Balanced data: num_returning_bal = 11847 | num_nonreturning_bal = 11847\n",
      "Balanced data: y.shape = (23694,) | X_unscaled.shape = (23694, 10)\n"
     ]
    }
   ],
   "source": [
    "### Balance the dataset with SMOTE (oversampling technique that adds synthetic samples for the minority class) ###\n",
    "\n",
    "# See how much data we have for each target\n",
    "priors_count_dict = Counter(y_unequal_priors)\n",
    "num_nonreturning, num_returning = priors_count_dict[0], priors_count_dict[1]\n",
    "print(f'Prebalanced data: {num_returning = } | {num_nonreturning = }')\n",
    "\n",
    "# Apply SMOTE to add samples\n",
    "smote = SMOTE(random_state=42) # Note to self: It may have been more prudent to set aside test data prior to this step.\n",
    "X_unscaled, y = smote.fit_resample(X_unscaled_unequal_priors, y_unequal_priors)\n",
    "\n",
    "# Info on balanced data\n",
    "balanced_priors_count_dict = Counter(y)\n",
    "num_nonreturning_bal, num_returning_bal = balanced_priors_count_dict[0], balanced_priors_count_dict[1]\n",
    "print(f'Balanced data: {num_returning_bal = } | {num_nonreturning_bal = }')\n",
    "print(f'Balanced data: {y.shape = } | {X_unscaled.shape = }')\n"
   ]
  },
  {
   "cell_type": "code",
   "execution_count": 3,
   "metadata": {},
   "outputs": [
    {
     "name": "stdout",
     "output_type": "stream",
     "text": [
      "Number of samples=23694\n",
      "X_train.shape=(18954, 10), y_train.shape=(18954,), Priors Count={1: 9477, 0: 9477}\n",
      "X_val.shape=(2370, 10), y_val.shape=(2370,), Priors Count={0: 1185, 1: 1185}\n",
      "X_test.shape=(2370, 10), y_test.shape=(2370,), Priors Count={1: 1185, 0: 1185}\n"
     ]
    }
   ],
   "source": [
    "### Scale/standardize the inputs, shuffle and split into train/val/test, and save as .npz ###\n",
    "\n",
    "# Scale/standardize inputs so each feature has a mean of 0 and std of 1\n",
    "X = preprocessing.scale(X_unscaled)\n",
    "\n",
    "# Shuffle and split the data (80/10/10), while using stratisfy to maintain priors balance\n",
    "X_train_val, X_test, y_train_val, y_test = train_test_split(\n",
    "    X, y, test_size=0.1, stratify=y, random_state=42\n",
    ")\n",
    "X_train, X_val, y_train, y_val = train_test_split(\n",
    "    X_train_val, y_train_val, test_size=1/9, stratify=y_train_val, random_state=42\n",
    ")\n",
    "\n",
    "# Print info on the data\n",
    "print(f'Number of samples={len(y)}')\n",
    "print(f'{X_train.shape=}, {y_train.shape=}, Priors Count={dict(Counter(y_train))}')\n",
    "print(f'{X_val.shape=}, {y_val.shape=}, Priors Count={dict(Counter(y_val))}')\n",
    "print(f'{X_test.shape=}, {y_test.shape=}, Priors Count={dict(Counter(y_test))}')\n",
    "\n",
    "### Save the inputs and targets to an .npz file ###\n",
    "np.savez(\n",
    "    'data/audiobooks_data_split_smote.npz',\n",
    "    X_train=X_train, \n",
    "    X_val=X_val, \n",
    "    X_test=X_test, \n",
    "    y_train=y_train, \n",
    "    y_val=y_val, \n",
    "    y_test=y_test\n",
    ")"
   ]
  }
 ],
 "metadata": {
  "kernelspec": {
   "display_name": "Python 3",
   "language": "python",
   "name": "python3"
  },
  "language_info": {
   "codemirror_mode": {
    "name": "ipython",
    "version": 3
   },
   "file_extension": ".py",
   "mimetype": "text/x-python",
   "name": "python",
   "nbconvert_exporter": "python",
   "pygments_lexer": "ipython3",
   "version": "3.12.2"
  }
 },
 "nbformat": 4,
 "nbformat_minor": 2
}

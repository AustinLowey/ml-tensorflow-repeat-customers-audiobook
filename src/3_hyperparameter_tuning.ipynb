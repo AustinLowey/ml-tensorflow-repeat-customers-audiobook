{
 "cells": [
  {
   "cell_type": "code",
   "execution_count": 1,
   "metadata": {},
   "outputs": [
    {
     "name": "stderr",
     "output_type": "stream",
     "text": [
      "C:\\Users\\alowe\\AppData\\Local\\Temp\\ipykernel_33840\\2551085996.py:1: DeprecationWarning: `import kerastuner` is deprecated, please use `import keras_tuner`.\n",
      "  import kerastuner as kt\n"
     ]
    },
    {
     "name": "stdout",
     "output_type": "stream",
     "text": [
      "Data successfully loaded:\n",
      "X_train.shape=TensorShape([3579, 10]), X_val.shape=TensorShape([447, 10]), X_test.shape=TensorShape([448, 10])\n",
      "y_train.shape=TensorShape([3579]), y_val.shape=TensorShape([447]), y_test.shape=TensorShape([448])\n"
     ]
    }
   ],
   "source": [
    "import kerastuner as kt\n",
    "import matplotlib.pyplot as plt\n",
    "import numpy as np\n",
    "import tensorflow as tf\n",
    "\n",
    "npz_data = np.load('data/audiobooks_data_split.npz')\n",
    "\n",
    "X_train = tf.convert_to_tensor(npz_data['X_train'], dtype=tf.float64)\n",
    "X_val = tf.convert_to_tensor(npz_data['X_val'], dtype=tf.float64)\n",
    "X_test = tf.convert_to_tensor(npz_data['X_test'], dtype=tf.float64)\n",
    "y_train = tf.convert_to_tensor(npz_data['y_train'], dtype=tf.int8)\n",
    "y_val = tf.convert_to_tensor(npz_data['y_val'], dtype=tf.int8)\n",
    "y_test = tf.convert_to_tensor(npz_data['y_test'], dtype=tf.int8)\n",
    "\n",
    "print('Data successfully loaded:')\n",
    "print(f'{X_train.shape=}, {X_val.shape=}, {X_test.shape=}')\n",
    "print(f'{y_train.shape=}, {y_val.shape=}, {y_test.shape=}')"
   ]
  },
  {
   "cell_type": "code",
   "execution_count": 2,
   "metadata": {},
   "outputs": [],
   "source": [
    "def build_model(hp):\n",
    "    \"\"\"Model building function.\"\"\"\n",
    "\n",
    "    # Define hyperparameters to tune\n",
    "    num_hidden_layers = hp.Int('num_layers', min_value=2, max_value=5, default=3)\n",
    "    hidden_layer_size = hp.Int('hidden_layer_size', min_value=16, max_value=128, step=16, default=64)\n",
    "    activation = hp.Choice('activation', values=['relu', 'tanh', 'selu'], default='relu')\n",
    "    dropout_rate = hp.Float('dropout_rate', min_value=0.0, max_value=0.5, default=0.2, step=0.05)\n",
    "    l2_strength = hp.Float('l2_strength', min_value=1e-5, max_value=1e-2, default=0.001, step=1e-5)\n",
    "    learning_rate = hp.Float('learning_rate', min_value=1e-4, max_value=1e-2, default=1e-3, step=1e-4)\n",
    "\n",
    "    # Build the model\n",
    "    model = tf.keras.Sequential()\n",
    "    model.add(tf.keras.layers.InputLayer(input_shape=(10,)))\n",
    "    for _ in range(num_hidden_layers):\n",
    "        model.add(\n",
    "            tf.keras.layers.Dense(\n",
    "                hidden_layer_size,\n",
    "                activation=activation,\n",
    "                kernel_regularizer=tf.keras.regularizers.l2(l2_strength)\n",
    "            )\n",
    "        )\n",
    "        # Dropout layer after each Dense layer\n",
    "        model.add(tf.keras.layers.Dropout(rate=dropout_rate))\n",
    "    model.add(tf.keras.layers.Dense(2,activation='softmax',))\n",
    "\n",
    "    # Compile the model\n",
    "    model.compile(\n",
    "        optimizer=tf.keras.optimizers.Adam(learning_rate=learning_rate),\n",
    "        loss='sparse_categorical_crossentropy',\n",
    "        metrics=['accuracy']\n",
    "    )\n",
    "\n",
    "    return model\n"
   ]
  },
  {
   "cell_type": "code",
   "execution_count": null,
   "metadata": {},
   "outputs": [
    {
     "name": "stdout",
     "output_type": "stream",
     "text": [
      "Trial 689 Complete [00h 00m 11s]\n",
      "val_loss: 0.43276312947273254\n",
      "\n",
      "Best val_loss So Far: 0.33202415704727173\n",
      "Total elapsed time: 01h 04m 55s\n"
     ]
    }
   ],
   "source": [
    "### Create and run the tuner ###\n",
    "\n",
    "MAX_EPOCHS = 200\n",
    "\n",
    "early_stopping = tf.keras.callbacks.EarlyStopping(\n",
    "    monitor='val_loss',\n",
    "    patience=5,\n",
    "    restore_best_weights=True,\n",
    ")\n",
    "\n",
    "tuner = kt.Hyperband(\n",
    "    build_model,\n",
    "    objective='val_loss',\n",
    "    max_epochs=MAX_EPOCHS,\n",
    "    factor=2,\n",
    "    directory='tuning_results',\n",
    "    project_name='undersample_balance_approach'\n",
    ")\n",
    "\n",
    "tuner.search(\n",
    "    X_train, y_train,\n",
    "    epochs=MAX_EPOCHS,\n",
    "    batch_size=128,\n",
    "    validation_data=(X_val, y_val),\n",
    "    callbacks=[early_stopping],\n",
    "    verbose=2\n",
    ")\n"
   ]
  },
  {
   "cell_type": "code",
   "execution_count": 58,
   "metadata": {},
   "outputs": [
    {
     "name": "stdout",
     "output_type": "stream",
     "text": [
      "Best Hyperparameters:  {'num_layers': 3, 'hidden_layer_size': 80, 'activation': 'selu', 'dropout_rate': 0.05, 'l2_strength': 5e-05, 'learning_rate': 0.0074, 'tuner/epochs': 200, 'tuner/initial_epoch': 100, 'tuner/bracket': 3, 'tuner/round': 3, 'tuner/trial_id': '0637'}\n",
      "Final Results after 8 epochs:\n",
      "Accuracy: Train=79.74% | Val=81.66%\n",
      "Loss: Train=0.3709 | Val=0.3320\n"
     ]
    }
   ],
   "source": [
    "### Get the best model, hyperparameters, and metrics ###\n",
    "\n",
    "# Best model and hyperparameters\n",
    "best_model = tuner.get_best_models(num_models=1)[0]\n",
    "best_hyperparameters = tuner.get_best_hyperparameters(num_trials=1)[0]\n",
    "print(\"Best Hyperparameters: \", best_hyperparameters.values)\n",
    "\n",
    "# Metrics\n",
    "best_trial = tuner.oracle.get_best_trials(num_trials=1)[0]\n",
    "best_metrics = best_trial.metrics\n",
    "train_loss = best_metrics.get_history('loss')[-1].value[0]\n",
    "train_accuracy = best_metrics.get_history('accuracy')[-1].value[0]\n",
    "val_loss = best_metrics.get_history('val_loss')[-1].value[0]\n",
    "val_accuracy = best_metrics.get_history('val_accuracy')[-1].value[0]\n",
    "last_epoch = best_metrics.get_history('loss')[-1].step\n",
    "\n",
    "# Display best hp and metrics\n",
    "print(f'Final Results after {last_epoch} epochs:')\n",
    "print(f'Accuracy: Train={train_accuracy * 100:.2f}% | Val={val_accuracy * 100:.2f}%')\n",
    "print(f'Loss: Train={train_loss:.4f} | Val={val_loss:.4f}')"
   ]
  },
  {
   "cell_type": "code",
   "execution_count": 80,
   "metadata": {},
   "outputs": [
    {
     "name": "stderr",
     "output_type": "stream",
     "text": [
      "c:\\Users\\alowe\\AppData\\Local\\Programs\\Python\\Python312\\Lib\\site-packages\\keras\\src\\layers\\core\\input_layer.py:26: UserWarning: Argument `input_shape` is deprecated. Use `shape` instead.\n",
      "  warnings.warn(\n",
      "c:\\Users\\alowe\\AppData\\Local\\Programs\\Python\\Python312\\Lib\\site-packages\\keras\\src\\saving\\saving_lib.py:719: UserWarning: Skipping variable loading for optimizer 'adam', because it has 2 variables whereas the saved optimizer has 18 variables. \n",
      "  saveable.load_own_variables(weights_store.get(inner_path))\n",
      "c:\\Users\\alowe\\AppData\\Local\\Programs\\Python\\Python312\\Lib\\site-packages\\keras\\src\\saving\\saving_lib.py:719: UserWarning: Skipping variable loading for optimizer 'adam', because it has 2 variables whereas the saved optimizer has 14 variables. \n",
      "  saveable.load_own_variables(weights_store.get(inner_path))\n"
     ]
    },
    {
     "name": "stdout",
     "output_type": "stream",
     "text": [
      "-------------------------\n",
      "#1 Best Trial Results\n",
      "Training Loss: 0.3709\n",
      "Validation Loss: 0.3320\n",
      "Train - Val Loss: 0.0388\n",
      "Hyperparameters: {'num_layers': 3, 'hidden_layer_size': 80, 'activation': 'selu', 'dropout_rate': 0.05, 'l2_strength': 5e-05, 'learning_rate': 0.0074, 'tuner/epochs': 200, 'tuner/initial_epoch': 100, 'tuner/bracket': 3, 'tuner/round': 3, 'tuner/trial_id': '0637'}\n",
      "-------------------------\n",
      "#2 Best Trial Results\n",
      "Training Loss: 0.3605\n",
      "Validation Loss: 0.3345\n",
      "Train - Val Loss: 0.0260\n",
      "Hyperparameters: {'num_layers': 2, 'hidden_layer_size': 48, 'activation': 'relu', 'dropout_rate': 0.1, 'l2_strength': 0.00028000000000000003, 'learning_rate': 0.0047, 'tuner/epochs': 200, 'tuner/initial_epoch': 100, 'tuner/bracket': 6, 'tuner/round': 6, 'tuner/trial_id': '0452'}\n",
      "-------------------------\n",
      "#3 Best Trial Results\n",
      "Training Loss: 0.3632\n",
      "Validation Loss: 0.3356\n",
      "Train - Val Loss: 0.0276\n",
      "Hyperparameters: {'num_layers': 3, 'hidden_layer_size': 80, 'activation': 'selu', 'dropout_rate': 0.05, 'l2_strength': 5e-05, 'learning_rate': 0.0074, 'tuner/epochs': 50, 'tuner/initial_epoch': 25, 'tuner/bracket': 3, 'tuner/round': 1, 'tuner/trial_id': '0617'}\n",
      "-------------------------\n",
      "#4 Best Trial Results\n",
      "Training Loss: 0.3611\n",
      "Validation Loss: 0.3359\n",
      "Train - Val Loss: 0.0251\n",
      "Hyperparameters: {'num_layers': 2, 'hidden_layer_size': 48, 'activation': 'relu', 'dropout_rate': 0.1, 'l2_strength': 0.00028000000000000003, 'learning_rate': 0.0047, 'tuner/epochs': 100, 'tuner/initial_epoch': 50, 'tuner/bracket': 6, 'tuner/round': 5, 'tuner/trial_id': '0446'}\n",
      "-------------------------\n",
      "#5 Best Trial Results\n",
      "Training Loss: 0.3737\n",
      "Validation Loss: 0.3367\n",
      "Train - Val Loss: 0.0371\n",
      "Hyperparameters: {'num_layers': 3, 'hidden_layer_size': 80, 'activation': 'selu', 'dropout_rate': 0.05, 'l2_strength': 5e-05, 'learning_rate': 0.0074, 'tuner/epochs': 25, 'tuner/initial_epoch': 0, 'tuner/bracket': 3, 'tuner/round': 0}\n",
      "-------------------------\n",
      "#6 Best Trial Results\n",
      "Training Loss: 0.3705\n",
      "Validation Loss: 0.3398\n",
      "Train - Val Loss: 0.0307\n",
      "Hyperparameters: {'num_layers': 3, 'hidden_layer_size': 80, 'activation': 'selu', 'dropout_rate': 0.05, 'l2_strength': 5e-05, 'learning_rate': 0.0074, 'tuner/epochs': 100, 'tuner/initial_epoch': 50, 'tuner/bracket': 3, 'tuner/round': 2, 'tuner/trial_id': '0628'}\n",
      "-------------------------\n",
      "#7 Best Trial Results\n",
      "Training Loss: 0.3626\n",
      "Validation Loss: 0.3410\n",
      "Train - Val Loss: 0.0216\n",
      "Hyperparameters: {'num_layers': 2, 'hidden_layer_size': 48, 'activation': 'relu', 'dropout_rate': 0.1, 'l2_strength': 0.00028000000000000003, 'learning_rate': 0.0047, 'tuner/epochs': 50, 'tuner/initial_epoch': 25, 'tuner/bracket': 6, 'tuner/round': 4, 'tuner/trial_id': '0436'}\n",
      "-------------------------\n",
      "#8 Best Trial Results\n",
      "Training Loss: 0.3824\n",
      "Validation Loss: 0.3429\n",
      "Train - Val Loss: 0.0396\n",
      "Hyperparameters: {'num_layers': 2, 'hidden_layer_size': 48, 'activation': 'selu', 'dropout_rate': 0.2, 'l2_strength': 0.00025000000000000006, 'learning_rate': 0.005200000000000001, 'tuner/epochs': 50, 'tuner/initial_epoch': 25, 'tuner/bracket': 7, 'tuner/round': 5, 'tuner/trial_id': '0270'}\n",
      "-------------------------\n",
      "#9 Best Trial Results\n",
      "Training Loss: 0.3738\n",
      "Validation Loss: 0.3434\n",
      "Train - Val Loss: 0.0304\n",
      "Hyperparameters: {'num_layers': 2, 'hidden_layer_size': 128, 'activation': 'tanh', 'dropout_rate': 0.1, 'l2_strength': 5e-05, 'learning_rate': 0.005900000000000001, 'tuner/epochs': 50, 'tuner/initial_epoch': 25, 'tuner/bracket': 5, 'tuner/round': 3, 'tuner/trial_id': '0529'}\n",
      "-------------------------\n",
      "#10 Best Trial Results\n",
      "Training Loss: 0.3806\n",
      "Validation Loss: 0.3440\n",
      "Train - Val Loss: 0.0365\n",
      "Hyperparameters: {'num_layers': 2, 'hidden_layer_size': 48, 'activation': 'selu', 'dropout_rate': 0.2, 'l2_strength': 0.00025000000000000006, 'learning_rate': 0.005200000000000001, 'tuner/epochs': 200, 'tuner/initial_epoch': 100, 'tuner/bracket': 7, 'tuner/round': 7, 'tuner/trial_id': '0284'}\n"
     ]
    }
   ],
   "source": [
    "### Exploring model viabilities for ensembling ###\n",
    "\n",
    "num_to_explore = 10\n",
    "best_models = tuner.get_best_models(num_models=num_to_explore)\n",
    "best_trials = tuner.oracle.get_best_trials(num_trials=num_to_explore)\n",
    "best_hps = tuner.get_best_hyperparameters(num_trials=num_to_explore)\n",
    "for i in range(num_to_explore):\n",
    "    trial_i = best_trials[i]\n",
    "    hp_i = best_hps[i]\n",
    "    loss_i = trial_i.metrics.get_history('loss')[-1].value[0]\n",
    "    val_loss_i = trial_i.metrics.get_history('val_loss')[-1].value[0]\n",
    "    print('-------------------------')\n",
    "    print(f'#{i + 1} Best Trial Results')\n",
    "    print(f'Training Loss: {loss_i:.4f}')\n",
    "    print(f'Validation Loss: {val_loss_i:.4f}')\n",
    "    print(f'Train - Val Loss: {loss_i - val_loss_i:.4f}')\n",
    "    print(f'Hyperparameters: {hp_i.values}')\n"
   ]
  },
  {
   "cell_type": "code",
   "execution_count": null,
   "metadata": {},
   "outputs": [
    {
     "name": "stdout",
     "output_type": "stream",
     "text": [
      "\u001b[1m14/14\u001b[0m \u001b[32m━━━━━━━━━━━━━━━━━━━━\u001b[0m\u001b[37m\u001b[0m \u001b[1m0s\u001b[0m 2ms/step \n",
      "\u001b[1m14/14\u001b[0m \u001b[32m━━━━━━━━━━━━━━━━━━━━\u001b[0m\u001b[37m\u001b[0m \u001b[1m0s\u001b[0m 1ms/step \n",
      "\u001b[1m14/14\u001b[0m \u001b[32m━━━━━━━━━━━━━━━━━━━━\u001b[0m\u001b[37m\u001b[0m \u001b[1m0s\u001b[0m 3ms/step \n",
      "\u001b[1m14/14\u001b[0m \u001b[32m━━━━━━━━━━━━━━━━━━━━\u001b[0m\u001b[37m\u001b[0m \u001b[1m0s\u001b[0m 1ms/step \n",
      "Ensemble Accuracy: 0.8300\n",
      "Ensemble Validation Loss: 0.3211\n"
     ]
    }
   ],
   "source": [
    "### Ensemble models ###\n",
    "\n",
    "num_to_ensemble = 4\n",
    "\n",
    "# Get predicted class probabilities and stack them\n",
    "probabilities = [model.predict(X_val)[:, 1] for model in best_models[:num_to_ensemble]]\n",
    "probabilities_stack = np.stack(probabilities, axis=0)\n",
    "\n",
    "# Average probabilities across models and convert to 0 or 1\n",
    "avg_probabilities = np.mean(probabilities_stack, axis=0)\n",
    "final_predictions = (avg_probabilities > 0.5).astype(int)\n",
    "\n",
    "# Compute the ensemble's accuracy\n",
    "ensemble_accuracy = np.mean(final_predictions == y_val)\n",
    "print(f\"Ensemble Accuracy: {ensemble_accuracy:.4f}\")\n",
    "\n",
    "# Calculate ensemble's val_loss using sparse categorical crossentropy\n",
    "ensemble_predictions = np.stack([1 - avg_probabilities, avg_probabilities], axis=-1)\n",
    "ensemble_loss = tf.keras.losses.sparse_categorical_crossentropy(\n",
    "    y_val, ensemble_predictions\n",
    ").numpy()\n",
    "avg_val_loss = np.mean(ensemble_loss)\n",
    "print(f\"Ensemble Validation Loss: {avg_val_loss:.4f}\")"
   ]
  }
 ],
 "metadata": {
  "kernelspec": {
   "display_name": "Python 3",
   "language": "python",
   "name": "python3"
  },
  "language_info": {
   "codemirror_mode": {
    "name": "ipython",
    "version": 3
   },
   "file_extension": ".py",
   "mimetype": "text/x-python",
   "name": "python",
   "nbconvert_exporter": "python",
   "pygments_lexer": "ipython3",
   "version": "3.12.2"
  }
 },
 "nbformat": 4,
 "nbformat_minor": 2
}

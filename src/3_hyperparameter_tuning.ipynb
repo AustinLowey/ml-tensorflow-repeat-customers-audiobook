{
 "cells": [
  {
   "cell_type": "code",
   "execution_count": 1,
   "metadata": {},
   "outputs": [
    {
     "name": "stdout",
     "output_type": "stream",
     "text": [
      "Data successfully loaded:\n",
      "X_train.shape=TensorShape([3578, 10]), X_val.shape=TensorShape([448, 10]), X_test.shape=TensorShape([448, 10])\n",
      "y_train.shape=TensorShape([3578]), y_val.shape=TensorShape([448]), y_test.shape=TensorShape([448])\n"
     ]
    }
   ],
   "source": [
    "import keras_tuner as kt\n",
    "import numpy as np\n",
    "import tensorflow as tf\n",
    "\n",
    "npz_data = np.load('data/audiobooks_data_split_undersampled.npz')\n",
    "\n",
    "X_train = tf.convert_to_tensor(npz_data['X_train'], dtype=tf.float64)\n",
    "X_val = tf.convert_to_tensor(npz_data['X_val'], dtype=tf.float64)\n",
    "X_test = tf.convert_to_tensor(npz_data['X_test'], dtype=tf.float64)\n",
    "y_train = tf.convert_to_tensor(npz_data['y_train'], dtype=tf.int8)\n",
    "y_val = tf.convert_to_tensor(npz_data['y_val'], dtype=tf.int8)\n",
    "y_test = tf.convert_to_tensor(npz_data['y_test'], dtype=tf.int8)\n",
    "\n",
    "print('Data successfully loaded:')\n",
    "print(f'{X_train.shape=}, {X_val.shape=}, {X_test.shape=}')\n",
    "print(f'{y_train.shape=}, {y_val.shape=}, {y_test.shape=}')"
   ]
  },
  {
   "cell_type": "code",
   "execution_count": 2,
   "metadata": {},
   "outputs": [],
   "source": [
    "def build_model(hp):\n",
    "    \"\"\"Model building function.\"\"\"\n",
    "\n",
    "    # Define hyperparameters to tune\n",
    "    num_hidden_layers = hp.Int('num_layers', min_value=2, max_value=5, default=3)\n",
    "    hidden_layer_size = hp.Int('hidden_layer_size', min_value=16, max_value=128, step=16, default=64)\n",
    "    activation = hp.Choice('activation', values=['relu', 'tanh', 'selu'], default='relu')\n",
    "    dropout_rate = hp.Float('dropout_rate', min_value=0.0, max_value=0.5, default=0.2, step=0.05)\n",
    "    l2_strength = hp.Float('l2_strength', min_value=1e-5, max_value=1e-2, default=0.001, step=1e-5)\n",
    "    learning_rate = hp.Float('learning_rate', min_value=1e-4, max_value=1e-2, default=1e-3, step=1e-4)\n",
    "\n",
    "    # Build the model\n",
    "    model = tf.keras.Sequential()\n",
    "    model.add(tf.keras.layers.InputLayer(shape=(10,)))\n",
    "    for _ in range(num_hidden_layers):\n",
    "        model.add(\n",
    "            tf.keras.layers.Dense(\n",
    "                hidden_layer_size,\n",
    "                activation=activation,\n",
    "                kernel_regularizer=tf.keras.regularizers.l2(l2_strength)\n",
    "            )\n",
    "        )\n",
    "        # Dropout layer after each Dense layer\n",
    "        model.add(tf.keras.layers.Dropout(rate=dropout_rate))\n",
    "    model.add(tf.keras.layers.Dense(2,activation='softmax',))\n",
    "\n",
    "    # Compile the model\n",
    "    model.compile(\n",
    "        optimizer=tf.keras.optimizers.Adam(learning_rate=learning_rate),\n",
    "        loss='sparse_categorical_crossentropy',\n",
    "        metrics=['accuracy']\n",
    "    )\n",
    "\n",
    "    return model\n"
   ]
  },
  {
   "cell_type": "code",
   "execution_count": 3,
   "metadata": {},
   "outputs": [
    {
     "name": "stdout",
     "output_type": "stream",
     "text": [
      "Trial 254 Complete [00h 00m 07s]\n",
      "val_loss: 0.44411200284957886\n",
      "\n",
      "Best val_loss So Far: 0.3770228326320648\n",
      "Total elapsed time: 00h 14m 54s\n"
     ]
    }
   ],
   "source": [
    "### Create and run the tuner ###\n",
    "\n",
    "MAX_EPOCHS = 100\n",
    "\n",
    "early_stopping = tf.keras.callbacks.EarlyStopping(\n",
    "    monitor='val_loss',\n",
    "    patience=5,\n",
    "    restore_best_weights=True,\n",
    ")\n",
    "\n",
    "tuner = kt.Hyperband(\n",
    "    build_model,\n",
    "    objective='val_loss',\n",
    "    max_epochs=MAX_EPOCHS,\n",
    "    factor=3,\n",
    "    directory='tuning_results',\n",
    "    project_name='undersample_balance_approach'\n",
    ")\n",
    "\n",
    "tuner.search(\n",
    "    X_train, y_train,\n",
    "    epochs=MAX_EPOCHS,\n",
    "    batch_size=128,\n",
    "    validation_data=(X_val, y_val),\n",
    "    callbacks=[early_stopping],\n",
    "    verbose=2\n",
    ")\n"
   ]
  },
  {
   "cell_type": "code",
   "execution_count": 4,
   "metadata": {},
   "outputs": [
    {
     "name": "stdout",
     "output_type": "stream",
     "text": [
      "Best Hyperparameters:  {'num_layers': 5, 'hidden_layer_size': 16, 'activation': 'tanh', 'dropout_rate': 0.2, 'l2_strength': 9e-05, 'learning_rate': 0.0051, 'tuner/epochs': 100, 'tuner/initial_epoch': 34, 'tuner/bracket': 4, 'tuner/round': 4, 'tuner/trial_id': '0142'}\n",
      "Trained for 6 epochs\n",
      "Accuracy: Train=79.43% | Val=79.02%\n",
      "Loss: Train=0.3830 | Val=0.3770\n"
     ]
    }
   ],
   "source": [
    "### Get the best model, hyperparameters, and metrics ###\n",
    "\n",
    "# Best model and hyperparameters\n",
    "best_model = tuner.get_best_models(num_models=1)[0]\n",
    "best_hyperparameters = tuner.get_best_hyperparameters(num_trials=1)[0]\n",
    "print(\"Best Hyperparameters: \", best_hyperparameters.values)\n",
    "\n",
    "# Metrics\n",
    "best_trial = tuner.oracle.get_best_trials(num_trials=1)[0]\n",
    "best_metrics = best_trial.metrics\n",
    "train_loss = best_metrics.get_history('loss')[-1].value[0]\n",
    "train_accuracy = best_metrics.get_history('accuracy')[-1].value[0]\n",
    "val_loss = best_metrics.get_history('val_loss')[-1].value[0]\n",
    "val_accuracy = best_metrics.get_history('val_accuracy')[-1].value[0]\n",
    "last_epoch = best_metrics.get_history('loss')[-1].step\n",
    "\n",
    "# Display best hp and metrics\n",
    "print(f'Trained for {last_epoch} epochs')\n",
    "print(f'Accuracy: Train={train_accuracy * 100:.2f}% | Val={val_accuracy * 100:.2f}%')\n",
    "print(f'Loss: Train={train_loss:.4f} | Val={val_loss:.4f}')"
   ]
  },
  {
   "cell_type": "code",
   "execution_count": 5,
   "metadata": {},
   "outputs": [
    {
     "name": "stdout",
     "output_type": "stream",
     "text": [
      "-------------------------\n",
      "#1 Best Trial Results\n",
      "Training Loss: 0.3830\n",
      "Validation Loss: 0.3770\n",
      "Train - Val Loss: 0.0060\n",
      "Hyperparameters: {'num_layers': 5, 'hidden_layer_size': 16, 'activation': 'tanh', 'dropout_rate': 0.2, 'l2_strength': 9e-05, 'learning_rate': 0.0051, 'tuner/epochs': 100, 'tuner/initial_epoch': 34, 'tuner/bracket': 4, 'tuner/round': 4, 'tuner/trial_id': '0142'}\n",
      "-------------------------\n",
      "#2 Best Trial Results\n",
      "Training Loss: 0.3910\n",
      "Validation Loss: 0.3863\n",
      "Train - Val Loss: 0.0048\n",
      "Hyperparameters: {'num_layers': 5, 'hidden_layer_size': 16, 'activation': 'tanh', 'dropout_rate': 0.2, 'l2_strength': 9e-05, 'learning_rate': 0.0051, 'tuner/epochs': 34, 'tuner/initial_epoch': 12, 'tuner/bracket': 4, 'tuner/round': 3, 'tuner/trial_id': '0138'}\n",
      "-------------------------\n",
      "#3 Best Trial Results\n",
      "Training Loss: 0.3744\n",
      "Validation Loss: 0.3868\n",
      "Train - Val Loss: -0.0124\n",
      "Hyperparameters: {'num_layers': 2, 'hidden_layer_size': 64, 'activation': 'relu', 'dropout_rate': 0.30000000000000004, 'l2_strength': 0.0004900000000000001, 'learning_rate': 0.01, 'tuner/epochs': 100, 'tuner/initial_epoch': 34, 'tuner/bracket': 3, 'tuner/round': 3, 'tuner/trial_id': '0204'}\n",
      "-------------------------\n",
      "#4 Best Trial Results\n",
      "Training Loss: 0.3943\n",
      "Validation Loss: 0.3908\n",
      "Train - Val Loss: 0.0034\n",
      "Hyperparameters: {'num_layers': 4, 'hidden_layer_size': 32, 'activation': 'selu', 'dropout_rate': 0.15000000000000002, 'l2_strength': 0.00064, 'learning_rate': 0.0071, 'tuner/epochs': 100, 'tuner/initial_epoch': 34, 'tuner/bracket': 4, 'tuner/round': 4, 'tuner/trial_id': '0144'}\n",
      "-------------------------\n",
      "#5 Best Trial Results\n",
      "Training Loss: 0.3629\n",
      "Validation Loss: 0.3919\n",
      "Train - Val Loss: -0.0290\n",
      "Hyperparameters: {'num_layers': 3, 'hidden_layer_size': 16, 'activation': 'selu', 'dropout_rate': 0.0, 'l2_strength': 0.00032, 'learning_rate': 0.009, 'tuner/epochs': 100, 'tuner/initial_epoch': 34, 'tuner/bracket': 3, 'tuner/round': 3, 'tuner/trial_id': '0203'}\n",
      "-------------------------\n",
      "#6 Best Trial Results\n",
      "Training Loss: 0.3882\n",
      "Validation Loss: 0.3927\n",
      "Train - Val Loss: -0.0045\n",
      "Hyperparameters: {'num_layers': 3, 'hidden_layer_size': 16, 'activation': 'relu', 'dropout_rate': 0.25, 'l2_strength': 0.0013300000000000002, 'learning_rate': 0.004900000000000001, 'tuner/epochs': 34, 'tuner/initial_epoch': 0, 'tuner/bracket': 1, 'tuner/round': 0}\n",
      "-------------------------\n",
      "#7 Best Trial Results\n",
      "Training Loss: 0.3841\n",
      "Validation Loss: 0.3942\n",
      "Train - Val Loss: -0.0101\n",
      "Hyperparameters: {'num_layers': 2, 'hidden_layer_size': 80, 'activation': 'selu', 'dropout_rate': 0.2, 'l2_strength': 0.0019000000000000002, 'learning_rate': 0.0022, 'tuner/epochs': 100, 'tuner/initial_epoch': 0, 'tuner/bracket': 0, 'tuner/round': 0}\n",
      "-------------------------\n",
      "#8 Best Trial Results\n",
      "Training Loss: 0.3908\n",
      "Validation Loss: 0.3961\n",
      "Train - Val Loss: -0.0053\n",
      "Hyperparameters: {'num_layers': 3, 'hidden_layer_size': 16, 'activation': 'relu', 'dropout_rate': 0.25, 'l2_strength': 0.0013300000000000002, 'learning_rate': 0.004900000000000001, 'tuner/epochs': 100, 'tuner/initial_epoch': 34, 'tuner/bracket': 1, 'tuner/round': 1, 'tuner/trial_id': '0238'}\n",
      "-------------------------\n",
      "#9 Best Trial Results\n",
      "Training Loss: 0.4084\n",
      "Validation Loss: 0.3964\n",
      "Train - Val Loss: 0.0119\n",
      "Hyperparameters: {'num_layers': 4, 'hidden_layer_size': 32, 'activation': 'selu', 'dropout_rate': 0.15000000000000002, 'l2_strength': 0.00064, 'learning_rate': 0.0071, 'tuner/epochs': 34, 'tuner/initial_epoch': 12, 'tuner/bracket': 4, 'tuner/round': 3, 'tuner/trial_id': '0135'}\n",
      "-------------------------\n",
      "#10 Best Trial Results\n",
      "Training Loss: 0.3645\n",
      "Validation Loss: 0.3980\n",
      "Train - Val Loss: -0.0335\n",
      "Hyperparameters: {'num_layers': 3, 'hidden_layer_size': 16, 'activation': 'selu', 'dropout_rate': 0.0, 'l2_strength': 0.00032, 'learning_rate': 0.009, 'tuner/epochs': 34, 'tuner/initial_epoch': 12, 'tuner/bracket': 3, 'tuner/round': 2, 'tuner/trial_id': '0191'}\n"
     ]
    }
   ],
   "source": [
    "### Exploring model viabilities for ensembling ###\n",
    "\n",
    "num_to_explore = 10\n",
    "best_models = tuner.get_best_models(num_models=num_to_explore)\n",
    "best_trials = tuner.oracle.get_best_trials(num_trials=num_to_explore)\n",
    "best_hps = tuner.get_best_hyperparameters(num_trials=num_to_explore)\n",
    "for i in range(num_to_explore):\n",
    "    trial_i = best_trials[i]\n",
    "    hp_i = best_hps[i]\n",
    "    loss_i = trial_i.metrics.get_history('loss')[-1].value[0]\n",
    "    val_loss_i = trial_i.metrics.get_history('val_loss')[-1].value[0]\n",
    "    print('-------------------------')\n",
    "    print(f'#{i + 1} Best Trial Results')\n",
    "    print(f'Training Loss: {loss_i:.4f}')\n",
    "    print(f'Validation Loss: {val_loss_i:.4f}')\n",
    "    print(f'Train - Val Loss: {loss_i - val_loss_i:.4f}')\n",
    "    print(f'Hyperparameters: {hp_i.values}')\n"
   ]
  },
  {
   "cell_type": "code",
   "execution_count": 6,
   "metadata": {},
   "outputs": [
    {
     "name": "stdout",
     "output_type": "stream",
     "text": [
      "\u001b[1m14/14\u001b[0m \u001b[32m━━━━━━━━━━━━━━━━━━━━\u001b[0m\u001b[37m\u001b[0m \u001b[1m0s\u001b[0m 1ms/step \n",
      "\u001b[1m14/14\u001b[0m \u001b[32m━━━━━━━━━━━━━━━━━━━━\u001b[0m\u001b[37m\u001b[0m \u001b[1m0s\u001b[0m 1ms/step \n",
      "Ensemble Validation Accuracy: 77.68%\n",
      "Ensemble Validation Loss: 0.3759\n"
     ]
    }
   ],
   "source": [
    "### Ensemble models, exploring different ensemble combination performances on validation data ###\n",
    "\n",
    "num_to_ensemble = 2\n",
    "ensembled_models = best_models[:num_to_ensemble]\n",
    "\n",
    "# Get predicted class probabilities and stack them\n",
    "probabilities = [model.predict(X_val)[:, 1] for model in ensembled_models]\n",
    "probabilities_stack = np.stack(probabilities, axis=0)\n",
    "\n",
    "# Average probabilities across models and convert to 0 or 1\n",
    "avg_probabilities = np.mean(probabilities_stack, axis=0)\n",
    "final_predictions = (avg_probabilities > 0.5).astype(int)\n",
    "\n",
    "# Compute the ensemble's accuracy\n",
    "ensemble_accuracy = np.mean(final_predictions == y_val)\n",
    "print(f\"Ensemble Validation Accuracy: {ensemble_accuracy * 100:.2f}%\")\n",
    "\n",
    "# Calculate ensemble's val_loss using sparse categorical crossentropy\n",
    "ensemble_predictions = np.stack([1 - avg_probabilities, avg_probabilities], axis=-1)\n",
    "ensemble_loss = tf.keras.losses.sparse_categorical_crossentropy(\n",
    "    y_val, ensemble_predictions\n",
    ").numpy()\n",
    "avg_val_loss = np.mean(ensemble_loss)\n",
    "print(f\"Ensemble Validation Loss: {avg_val_loss:.4f}\")"
   ]
  }
 ],
 "metadata": {
  "kernelspec": {
   "display_name": "Python 3",
   "language": "python",
   "name": "python3"
  },
  "language_info": {
   "codemirror_mode": {
    "name": "ipython",
    "version": 3
   },
   "file_extension": ".py",
   "mimetype": "text/x-python",
   "name": "python",
   "nbconvert_exporter": "python",
   "pygments_lexer": "ipython3",
   "version": "3.12.2"
  }
 },
 "nbformat": 4,
 "nbformat_minor": 2
}

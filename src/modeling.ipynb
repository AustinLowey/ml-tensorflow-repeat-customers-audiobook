{
 "cells": [
  {
   "cell_type": "code",
   "execution_count": 1,
   "metadata": {},
   "outputs": [],
   "source": [
    "import numpy as np\n",
    "import tensorflow as tf"
   ]
  },
  {
   "cell_type": "code",
   "execution_count": 2,
   "metadata": {},
   "outputs": [
    {
     "name": "stdout",
     "output_type": "stream",
     "text": [
      "X_train.shape=TensorShape([3579, 10]), X_val.shape=TensorShape([447, 10]), X_test.shape=TensorShape([448, 10])\n",
      "y_train.shape=TensorShape([3579]), y_val.shape=TensorShape([447]), y_test.shape=TensorShape([448])\n"
     ]
    }
   ],
   "source": [
    "### Load the .npz data and convert to tensors ###\n",
    "\n",
    "npz_data = np.load('data/audiobooks_data_split.npz')\n",
    "\n",
    "X_train = tf.convert_to_tensor(npz_data['X_train'], dtype=tf.float64)\n",
    "X_val = tf.convert_to_tensor(npz_data['X_val'], dtype=tf.float64)\n",
    "X_test = tf.convert_to_tensor(npz_data['X_test'], dtype=tf.float64)\n",
    "y_train = tf.convert_to_tensor(npz_data['y_train'], dtype=tf.int8)\n",
    "y_val = tf.convert_to_tensor(npz_data['y_val'], dtype=tf.int8)\n",
    "y_test = tf.convert_to_tensor(npz_data['y_test'], dtype=tf.int8)\n",
    "\n",
    "print(f'{X_train.shape=}, {X_val.shape=}, {X_test.shape=}')\n",
    "print(f'{y_train.shape=}, {y_val.shape=}, {y_test.shape=}')"
   ]
  },
  {
   "cell_type": "code",
   "execution_count": 3,
   "metadata": {},
   "outputs": [
    {
     "name": "stdout",
     "output_type": "stream",
     "text": [
      "Epoch 1/100\n",
      "28/28 - 1s - 34ms/step - accuracy: 0.6818 - loss: 0.6165 - val_accuracy: 0.6980 - val_loss: 0.5666\n",
      "Epoch 2/100\n",
      "28/28 - 0s - 2ms/step - accuracy: 0.7605 - loss: 0.4984 - val_accuracy: 0.7226 - val_loss: 0.4954\n",
      "Epoch 3/100\n",
      "28/28 - 0s - 2ms/step - accuracy: 0.7762 - loss: 0.4443 - val_accuracy: 0.7383 - val_loss: 0.4645\n",
      "Epoch 4/100\n",
      "28/28 - 0s - 2ms/step - accuracy: 0.7865 - loss: 0.4186 - val_accuracy: 0.7494 - val_loss: 0.4497\n",
      "Epoch 5/100\n",
      "28/28 - 0s - 2ms/step - accuracy: 0.7910 - loss: 0.4030 - val_accuracy: 0.7562 - val_loss: 0.4398\n",
      "Epoch 6/100\n",
      "28/28 - 0s - 2ms/step - accuracy: 0.8002 - loss: 0.3883 - val_accuracy: 0.7606 - val_loss: 0.4240\n",
      "Epoch 7/100\n",
      "28/28 - 0s - 3ms/step - accuracy: 0.8072 - loss: 0.3783 - val_accuracy: 0.7673 - val_loss: 0.4369\n",
      "Epoch 8/100\n",
      "28/28 - 0s - 2ms/step - accuracy: 0.8033 - loss: 0.3738 - val_accuracy: 0.7629 - val_loss: 0.4165\n",
      "Epoch 9/100\n",
      "28/28 - 0s - 2ms/step - accuracy: 0.8108 - loss: 0.3654 - val_accuracy: 0.7740 - val_loss: 0.4092\n",
      "Epoch 10/100\n",
      "28/28 - 0s - 2ms/step - accuracy: 0.8106 - loss: 0.3612 - val_accuracy: 0.7696 - val_loss: 0.4028\n",
      "Epoch 11/100\n",
      "28/28 - 0s - 2ms/step - accuracy: 0.8106 - loss: 0.3573 - val_accuracy: 0.7763 - val_loss: 0.4015\n",
      "Epoch 12/100\n",
      "28/28 - 0s - 2ms/step - accuracy: 0.8142 - loss: 0.3558 - val_accuracy: 0.7808 - val_loss: 0.3985\n",
      "Epoch 13/100\n",
      "28/28 - 0s - 3ms/step - accuracy: 0.8161 - loss: 0.3526 - val_accuracy: 0.7785 - val_loss: 0.3965\n",
      "Epoch 14/100\n",
      "28/28 - 0s - 2ms/step - accuracy: 0.8150 - loss: 0.3505 - val_accuracy: 0.7785 - val_loss: 0.4136\n",
      "Epoch 15/100\n",
      "28/28 - 0s - 3ms/step - accuracy: 0.8106 - loss: 0.3522 - val_accuracy: 0.7763 - val_loss: 0.3982\n",
      "Epoch 16/100\n",
      "28/28 - 0s - 2ms/step - accuracy: 0.8181 - loss: 0.3468 - val_accuracy: 0.7763 - val_loss: 0.3979\n",
      "Epoch 17/100\n",
      "28/28 - 0s - 3ms/step - accuracy: 0.8195 - loss: 0.3442 - val_accuracy: 0.7942 - val_loss: 0.3884\n",
      "Epoch 18/100\n",
      "28/28 - 0s - 3ms/step - accuracy: 0.8170 - loss: 0.3431 - val_accuracy: 0.7875 - val_loss: 0.3939\n",
      "Epoch 19/100\n",
      "28/28 - 0s - 2ms/step - accuracy: 0.8192 - loss: 0.3412 - val_accuracy: 0.7852 - val_loss: 0.3927\n",
      "Epoch 20/100\n",
      "28/28 - 0s - 2ms/step - accuracy: 0.8220 - loss: 0.3399 - val_accuracy: 0.7763 - val_loss: 0.4117\n",
      "Epoch 21/100\n",
      "28/28 - 0s - 2ms/step - accuracy: 0.8156 - loss: 0.3426 - val_accuracy: 0.7852 - val_loss: 0.3857\n",
      "Epoch 22/100\n",
      "28/28 - 0s - 3ms/step - accuracy: 0.8215 - loss: 0.3403 - val_accuracy: 0.7852 - val_loss: 0.3862\n",
      "Epoch 23/100\n",
      "28/28 - 0s - 3ms/step - accuracy: 0.8220 - loss: 0.3397 - val_accuracy: 0.7740 - val_loss: 0.3853\n",
      "Epoch 24/100\n",
      "28/28 - 0s - 3ms/step - accuracy: 0.8175 - loss: 0.3381 - val_accuracy: 0.7875 - val_loss: 0.3870\n",
      "Epoch 25/100\n",
      "28/28 - 0s - 2ms/step - accuracy: 0.8226 - loss: 0.3385 - val_accuracy: 0.7830 - val_loss: 0.3961\n",
      "Epoch 26/100\n",
      "28/28 - 0s - 2ms/step - accuracy: 0.8212 - loss: 0.3364 - val_accuracy: 0.7852 - val_loss: 0.3871\n",
      "Epoch 27/100\n",
      "28/28 - 0s - 2ms/step - accuracy: 0.8212 - loss: 0.3339 - val_accuracy: 0.7808 - val_loss: 0.3944\n",
      "Epoch 28/100\n",
      "28/28 - 0s - 2ms/step - accuracy: 0.8206 - loss: 0.3340 - val_accuracy: 0.7852 - val_loss: 0.3886\n",
      "\u001b[1m14/14\u001b[0m \u001b[32m━━━━━━━━━━━━━━━━━━━━\u001b[0m\u001b[37m\u001b[0m \u001b[1m0s\u001b[0m 577us/step - accuracy: 0.8082 - loss: 0.3752\n",
      "-----------------------------------------------------------\n",
      "Note: Below metrics on test dataset are only used here to see how much better the hyperparameter-tuned model performs.\n",
      "Test loss: 0.3728. Test accuracy: 81.03%.\n"
     ]
    }
   ],
   "source": [
    "### Train the baseline model ###\n",
    "\n",
    "MAX_EPOCHS = 100\n",
    "\n",
    "input_size = 10\n",
    "output_size = 2\n",
    "hidden_layer_size = 64\n",
    "batch_size = 128\n",
    "activation='relu'\n",
    "\n",
    "model = tf.keras.Sequential(\n",
    "    [\n",
    "        tf.keras.layers.Dense(hidden_layer_size, activation=activation),\n",
    "        tf.keras.layers.Dense(hidden_layer_size, activation=activation),\n",
    "        tf.keras.layers.Dense(output_size, activation='softmax')\n",
    "    ]\n",
    ")\n",
    "\n",
    "# Note: Using sparse_categorical_crossentropy (instead of binary_crossentropy), since the former applies one-hot encoding to the targets\n",
    "model.compile(\n",
    "    optimizer='adam',\n",
    "    loss='sparse_categorical_crossentropy',\n",
    "    metrics=['accuracy']\n",
    ")\n",
    "\n",
    "early_stopping = tf.keras.callbacks.EarlyStopping(\n",
    "    monitor='val_loss',\n",
    "    patience=5,\n",
    "    restore_best_weights=True,\n",
    ")\n",
    "\n",
    "history = model.fit(\n",
    "    X_train,\n",
    "    y_train,\n",
    "    epochs=MAX_EPOCHS,\n",
    "    batch_size=batch_size,\n",
    "    validation_data=(X_val, y_val),\n",
    "    verbose=2,\n",
    "    callbacks=[early_stopping]\n",
    ")\n",
    "\n",
    "# Testing baseline model (only to see how much better the model is after hyperparameter tuning)\n",
    "test_loss, test_accuracy = model.evaluate(X_test, y_test)\n",
    "print('-----------------------------------------------------------')\n",
    "print('Note: Below metrics on test dataset are only used here to see how much better the hyperparameter-tuned model performs.')\n",
    "print(f'Test loss: {test_loss:.4f}. Test accuracy: {test_accuracy*100:.2f}%.')\n"
   ]
  }
 ],
 "metadata": {
  "kernelspec": {
   "display_name": "Python 3",
   "language": "python",
   "name": "python3"
  },
  "language_info": {
   "codemirror_mode": {
    "name": "ipython",
    "version": 3
   },
   "file_extension": ".py",
   "mimetype": "text/x-python",
   "name": "python",
   "nbconvert_exporter": "python",
   "pygments_lexer": "ipython3",
   "version": "3.12.2"
  }
 },
 "nbformat": 4,
 "nbformat_minor": 2
}
